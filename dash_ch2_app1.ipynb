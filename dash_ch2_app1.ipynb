{
 "cells": [
  {
   "cell_type": "code",
   "execution_count": 14,
   "id": "89be0bfd-1f81-46d8-a208-c7726c5da4e8",
   "metadata": {},
   "outputs": [
    {
     "data": {
      "text/html": [
       "\n",
       "        <iframe\n",
       "            width=\"100%\"\n",
       "            height=\"650\"\n",
       "            src=\"http://127.0.0.1:8050/\"\n",
       "            frameborder=\"0\"\n",
       "            allowfullscreen\n",
       "        ></iframe>\n",
       "        "
      ],
      "text/plain": [
       "<IPython.lib.display.IFrame at 0x7fd0e955bd00>"
      ]
     },
     "metadata": {},
     "output_type": "display_data"
    }
   ],
   "source": [
    "from jupyter_dash import JupyterDash\n",
    "from dash.dependencies import Output, Input\n",
    "\n",
    "import dash_core_components as dcc\n",
    "import dash_html_components as html\n",
    "\n",
    "app = JupyterDash('__name__')\n",
    "\n",
    "app.layout = html.Div([\n",
    "    dcc.Dropdown(id='color_dropdown',\n",
    "                options=[{'label': color, 'value': color}\n",
    "                          for color in ['blue', 'green', 'yellow']]),\n",
    "    html.Br(),\n",
    "    html.Div(id='color_output')\n",
    "])\n",
    "\n",
    "@app.callback(Output('color_output', 'children'),\n",
    "              Input('color_dropdown', 'value'))\n",
    "def display_selected_color(color):\n",
    "    if color is None:\n",
    "        color = 'Nothing'\n",
    "    return 'You selected ' + color\n",
    "\n",
    "if __name__ == '__main__':\n",
    "    app.run_server(mode='inline')"
   ]
  },
  {
   "cell_type": "code",
   "execution_count": 12,
   "id": "18c93660-8142-4d60-9e2f-d320bf315ca5",
   "metadata": {},
   "outputs": [],
   "source": []
  },
  {
   "cell_type": "code",
   "execution_count": null,
   "id": "a856e2bc-5814-4e36-b206-58db65fff791",
   "metadata": {},
   "outputs": [],
   "source": []
  }
 ],
 "metadata": {
  "kernelspec": {
   "display_name": "dash_tutorial",
   "language": "python",
   "name": "dash_tutorial"
  },
  "language_info": {
   "codemirror_mode": {
    "name": "ipython",
    "version": 3
   },
   "file_extension": ".py",
   "mimetype": "text/x-python",
   "name": "python",
   "nbconvert_exporter": "python",
   "pygments_lexer": "ipython3",
   "version": "3.9.7"
  }
 },
 "nbformat": 4,
 "nbformat_minor": 5
}
